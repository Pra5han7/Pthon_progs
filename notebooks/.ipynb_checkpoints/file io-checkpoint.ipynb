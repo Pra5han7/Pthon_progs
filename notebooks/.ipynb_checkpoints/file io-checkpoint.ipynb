{
 "cells": [
  {
   "cell_type": "code",
   "execution_count": 1,
   "metadata": {},
   "outputs": [
    {
     "data": {
      "text/plain": [
       "u'/home/prashant/workspace/python/notebooks'"
      ]
     },
     "execution_count": 1,
     "metadata": {},
     "output_type": "execute_result"
    }
   ],
   "source": [
    "pwd"
   ]
  },
  {
   "cell_type": "code",
   "execution_count": 2,
   "metadata": {},
   "outputs": [
    {
     "name": "stdout",
     "output_type": "stream",
     "text": [
      "total 164\r\n",
      "-rw-rw-r-- 1 prashant prashant    30 Mar 17 14:13 abc.txt\r\n",
      "-rw-rw-r-- 1 prashant prashant   888 Mar 17 15:42 assesment test1.ipynb\r\n",
      "-rw-rw-r-- 1 prashant prashant  4810 Mar 17 19:43 comparision_operators.ipynb\r\n",
      "-rw-rw-r-- 1 prashant prashant    72 Mar 17 14:11 file_for_open_function.txt\r\n",
      "-rw-rw-r-- 1 prashant prashant 13141 Mar 17 14:37 files.ipynb\r\n",
      "-rw-rw-r-- 1 prashant prashant    50 Mar 17 13:29 file_test.txt\r\n",
      "-rw-rw-r-- 1 prashant prashant  9143 Mar 18 20:40 list_comprehension.ipynb\r\n",
      "-rw-rw-r-- 1 prashant prashant 12299 Mar 17 22:12 loops.ipynb\r\n",
      "-rw-rw-r-- 1 prashant prashant 22791 Mar 15 21:44 notebook.tex\r\n",
      "-rw-rw-r-- 1 prashant prashant  7074 Mar 17 00:59 print_format.ipynb\r\n",
      "-rw-rw-r-- 1 prashant prashant  7321 Mar 17 00:16 string_properties_and_methods.ipynb\r\n",
      "-rw-rw-r-- 1 prashant prashant 10100 Mar 16 21:39 strings.ipynb\r\n",
      "-rwxrwxr-x 1 prashant prashant  1695 Mar 15 22:56 \u001b[0m\u001b[01;32mstrings.py\u001b[0m*\r\n",
      "-rw-rw-r-- 1 prashant prashant    61 Mar 17 13:01 testfile.txt\r\n",
      "-rw-rw-r-- 1 prashant prashant    72 Mar 18 22:21 Untitled.ipynb\r\n",
      "-rw-rw-r-- 1 prashant prashant 17475 Mar 18 02:24 useful_operators.ipynb\r\n",
      "-rw-rw-r-- 1 prashant prashant 11095 Mar 16 21:03 variable_assignment.ipynb\r\n"
     ]
    }
   ],
   "source": [
    "ls -l"
   ]
  },
  {
   "cell_type": "code",
   "execution_count": 3,
   "metadata": {},
   "outputs": [
    {
     "name": "stdout",
     "output_type": "stream",
     "text": [
      "created using \"w\" mode of open"
     ]
    }
   ],
   "source": [
    "cat abc.txt"
   ]
  },
  {
   "cell_type": "code",
   "execution_count": 4,
   "metadata": {},
   "outputs": [
    {
     "name": "stdout",
     "output_type": "stream",
     "text": [
      "Writing def.txt\n"
     ]
    }
   ],
   "source": [
    "%%writefile def.txt\n",
    "created using \"w\" mode of open"
   ]
  },
  {
   "cell_type": "code",
   "execution_count": 5,
   "metadata": {},
   "outputs": [
    {
     "name": "stdout",
     "output_type": "stream",
     "text": [
      "-rw-rw-r-- 1 prashant prashant 30 Mar 18 22:22 def.txt\r\n"
     ]
    }
   ],
   "source": [
    "ls -l def*"
   ]
  },
  {
   "cell_type": "code",
   "execution_count": 6,
   "metadata": {},
   "outputs": [
    {
     "name": "stdout",
     "output_type": "stream",
     "text": [
      "-rw-rw-r-- 1 prashant prashant 30 Mar 17 14:13 abc.txt\r\n"
     ]
    }
   ],
   "source": [
    "ls -l abc*"
   ]
  },
  {
   "cell_type": "code",
   "execution_count": 7,
   "metadata": {},
   "outputs": [],
   "source": [
    "with open('abc.txt') as myfile:\n",
    "    contents1= myfile.read()"
   ]
  },
  {
   "cell_type": "code",
   "execution_count": 8,
   "metadata": {},
   "outputs": [],
   "source": [
    "with open('def.txt') as myfile:\n",
    "    contents2=myfile.read()"
   ]
  },
  {
   "cell_type": "code",
   "execution_count": 10,
   "metadata": {},
   "outputs": [],
   "source": [
    "if contents1==contents2:\n",
    "    with open('result.txt',\"w\") as myfile:\n",
    "        myfile.write(contents1)"
   ]
  },
  {
   "cell_type": "code",
   "execution_count": 11,
   "metadata": {},
   "outputs": [],
   "source": [
    "myfile=open('result.txt')"
   ]
  },
  {
   "cell_type": "code",
   "execution_count": 12,
   "metadata": {},
   "outputs": [
    {
     "data": {
      "text/plain": [
       "'created using \"w\" mode of open'"
      ]
     },
     "execution_count": 12,
     "metadata": {},
     "output_type": "execute_result"
    }
   ],
   "source": [
    "myfile.readline()"
   ]
  },
  {
   "cell_type": "code",
   "execution_count": 13,
   "metadata": {},
   "outputs": [
    {
     "data": {
      "text/plain": [
       "'created using \"w\" mode of open'"
      ]
     },
     "execution_count": 13,
     "metadata": {},
     "output_type": "execute_result"
    }
   ],
   "source": [
    "contents1"
   ]
  },
  {
   "cell_type": "code",
   "execution_count": 14,
   "metadata": {},
   "outputs": [
    {
     "data": {
      "text/plain": [
       "'created using \"w\" mode of open'"
      ]
     },
     "execution_count": 14,
     "metadata": {},
     "output_type": "execute_result"
    }
   ],
   "source": [
    "contents2"
   ]
  },
  {
   "cell_type": "code",
   "execution_count": 15,
   "metadata": {},
   "outputs": [
    {
     "name": "stdout",
     "output_type": "stream",
     "text": [
      "-rw-rw-r-- 1 prashant prashant 30 Mar 18 22:33 result.txt\r\n"
     ]
    }
   ],
   "source": [
    "ls -l res*"
   ]
  },
  {
   "cell_type": "code",
   "execution_count": 16,
   "metadata": {},
   "outputs": [
    {
     "name": "stdout",
     "output_type": "stream",
     "text": [
      "created using \"w\" mode of open"
     ]
    }
   ],
   "source": [
    "cat abc.txt"
   ]
  },
  {
   "cell_type": "code",
   "execution_count": 17,
   "metadata": {},
   "outputs": [
    {
     "name": "stdout",
     "output_type": "stream",
     "text": [
      "created using \"w\" mode of open"
     ]
    }
   ],
   "source": [
    "cat def.txt"
   ]
  },
  {
   "cell_type": "code",
   "execution_count": 18,
   "metadata": {},
   "outputs": [
    {
     "name": "stdout",
     "output_type": "stream",
     "text": [
      "created using \"w\" mode of open"
     ]
    }
   ],
   "source": [
    "cat result.txt"
   ]
  },
  {
   "cell_type": "code",
   "execution_count": null,
   "metadata": {},
   "outputs": [],
   "source": []
  }
 ],
 "metadata": {
  "kernelspec": {
   "display_name": "Python 2",
   "language": "python",
   "name": "python2"
  },
  "language_info": {
   "codemirror_mode": {
    "name": "ipython",
    "version": 2
   },
   "file_extension": ".py",
   "mimetype": "text/x-python",
   "name": "python",
   "nbconvert_exporter": "python",
   "pygments_lexer": "ipython2",
   "version": "2.7.14"
  }
 },
 "nbformat": 4,
 "nbformat_minor": 2
}
