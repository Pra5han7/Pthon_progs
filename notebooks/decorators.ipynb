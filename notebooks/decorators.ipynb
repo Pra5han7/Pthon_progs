{
 "cells": [
  {
   "cell_type": "markdown",
   "metadata": {},
   "source": [
    "decorators are kind of functions which modifies functionalities of another functions"
   ]
  },
  {
   "cell_type": "markdown",
   "metadata": {},
   "source": [
    "in python we have locals() and globals() functions to print local and global variables. the functions return a dictionary with keys as variable name and values as their values"
   ]
  },
  {
   "cell_type": "code",
   "execution_count": 1,
   "metadata": {},
   "outputs": [],
   "source": [
    "def func():\n",
    "    print locals()"
   ]
  },
  {
   "cell_type": "code",
   "execution_count": 2,
   "metadata": {},
   "outputs": [
    {
     "name": "stdout",
     "output_type": "stream",
     "text": [
      "{}\n"
     ]
    }
   ],
   "source": [
    "func()"
   ]
  },
  {
   "cell_type": "markdown",
   "metadata": {},
   "source": [
    "there are no local variables in the function lets add some"
   ]
  },
  {
   "cell_type": "code",
   "execution_count": 3,
   "metadata": {},
   "outputs": [],
   "source": [
    "def func2():\n",
    "    name='prashant'\n",
    "    age=25\n",
    "    print locals()"
   ]
  },
  {
   "cell_type": "code",
   "execution_count": 4,
   "metadata": {},
   "outputs": [
    {
     "name": "stdout",
     "output_type": "stream",
     "text": [
      "{'age': 25, 'name': 'prashant'}\n"
     ]
    }
   ],
   "source": [
    "func2()"
   ]
  },
  {
   "cell_type": "code",
   "execution_count": 5,
   "metadata": {},
   "outputs": [],
   "source": [
    "s = 'this is a global variable'"
   ]
  },
  {
   "cell_type": "code",
   "execution_count": 6,
   "metadata": {},
   "outputs": [
    {
     "name": "stdout",
     "output_type": "stream",
     "text": [
      "{'_dh': [u'/home/prashant/workspace/repository/Pthon_progs/notebooks'], '__': '', '_i': u\"s = 'this is a global variable'\", 'quit': <IPython.core.autocall.ZMQExitAutocall object at 0x7fb210d29c10>, '__builtins__': <module '__builtin__' (built-in)>, 's': 'this is a global variable', '_ih': ['', u'def func():\\n    print locals()', u'func()', u\"def func2():\\n    name='prashant'\\n    age=25\\n    print locals()\", u'func2()', u\"s = 'this is a global variable'\", u'print globals()'], '__builtin__': <module '__builtin__' (built-in)>, 'func': <function func at 0x7fb21497a668>, '__name__': '__main__', '___': '', '_': '', '_sh': <module 'IPython.core.shadowns' from '/home/prashant/workspace/anaconda2/lib/python2.7/site-packages/IPython/core/shadowns.pyc'>, 'func2': <function func2 at 0x7fb210487ed8>, '_i6': u'print globals()', '_i5': u\"s = 'this is a global variable'\", '_i4': u'func2()', '_i3': u\"def func2():\\n    name='prashant'\\n    age=25\\n    print locals()\", '_i2': u'func()', '_i1': u'def func():\\n    print locals()', '__doc__': 'Automatically created module for IPython interactive environment', '_iii': u\"def func2():\\n    name='prashant'\\n    age=25\\n    print locals()\", 'exit': <IPython.core.autocall.ZMQExitAutocall object at 0x7fb210d29c10>, 'get_ipython': <bound method ZMQInteractiveShell.get_ipython of <ipykernel.zmqshell.ZMQInteractiveShell object at 0x7fb214bf6d90>>, '_ii': u'func2()', 'In': ['', u'def func():\\n    print locals()', u'func()', u\"def func2():\\n    name='prashant'\\n    age=25\\n    print locals()\", u'func2()', u\"s = 'this is a global variable'\", u'print globals()'], '_oh': {}, 'Out': {}}\n"
     ]
    }
   ],
   "source": [
    "print globals()"
   ]
  },
  {
   "cell_type": "markdown",
   "metadata": {},
   "source": [
    "notice our variable s in the above dict. it can also be referenced as below"
   ]
  },
  {
   "cell_type": "code",
   "execution_count": 8,
   "metadata": {},
   "outputs": [
    {
     "name": "stdout",
     "output_type": "stream",
     "text": [
      "['_dh', '__', '_i', 'quit', '__builtins__', 's', '_ih', '__builtin__', 'func', '__name__', '___', '_', '_sh', 'func2', '_i8', '_i7', '_i6', '_i5', '_i4', '_i3', '_i2', '_i1', '__doc__', '_iii', 'exit', 'get_ipython', '_ii', 'In', '_oh', 'Out']\n"
     ]
    }
   ],
   "source": [
    "print globals().keys() #notice our variable below"
   ]
  },
  {
   "cell_type": "code",
   "execution_count": 9,
   "metadata": {},
   "outputs": [
    {
     "name": "stdout",
     "output_type": "stream",
     "text": [
      "this is a global variable\n"
     ]
    }
   ],
   "source": [
    "print globals()['s']"
   ]
  },
  {
   "cell_type": "markdown",
   "metadata": {},
   "source": [
    "functions can also be assigned to variables as below"
   ]
  },
  {
   "cell_type": "code",
   "execution_count": 10,
   "metadata": {},
   "outputs": [],
   "source": [
    "def say(name='prashant'):\n",
    "    print 'hello '+ name"
   ]
  },
  {
   "cell_type": "code",
   "execution_count": 11,
   "metadata": {},
   "outputs": [],
   "source": [
    "hello=say"
   ]
  },
  {
   "cell_type": "code",
   "execution_count": 12,
   "metadata": {},
   "outputs": [
    {
     "name": "stdout",
     "output_type": "stream",
     "text": [
      "hello prashant\n"
     ]
    }
   ],
   "source": [
    "say()"
   ]
  },
  {
   "cell_type": "code",
   "execution_count": 13,
   "metadata": {},
   "outputs": [
    {
     "name": "stdout",
     "output_type": "stream",
     "text": [
      "hello prashant\n"
     ]
    }
   ],
   "source": [
    "hello()"
   ]
  },
  {
   "cell_type": "markdown",
   "metadata": {},
   "source": [
    "now hello has its own space. even if say is deleted hello would still be there"
   ]
  },
  {
   "cell_type": "code",
   "execution_count": 14,
   "metadata": {},
   "outputs": [
    {
     "name": "stdout",
     "output_type": "stream",
     "text": [
      "hello suraj\n"
     ]
    }
   ],
   "source": [
    "say('suraj')"
   ]
  },
  {
   "cell_type": "code",
   "execution_count": 15,
   "metadata": {},
   "outputs": [],
   "source": [
    "del say"
   ]
  },
  {
   "cell_type": "code",
   "execution_count": 16,
   "metadata": {},
   "outputs": [
    {
     "ename": "NameError",
     "evalue": "name 'say' is not defined",
     "output_type": "error",
     "traceback": [
      "\u001b[0;31m\u001b[0m",
      "\u001b[0;31mNameError\u001b[0mTraceback (most recent call last)",
      "\u001b[0;32m<ipython-input-16-489308b9b168>\u001b[0m in \u001b[0;36m<module>\u001b[0;34m()\u001b[0m\n\u001b[0;32m----> 1\u001b[0;31m \u001b[0msay\u001b[0m\u001b[0;34m(\u001b[0m\u001b[0;34m)\u001b[0m\u001b[0;34m\u001b[0m\u001b[0m\n\u001b[0m",
      "\u001b[0;31mNameError\u001b[0m: name 'say' is not defined"
     ]
    }
   ],
   "source": [
    "say()"
   ]
  },
  {
   "cell_type": "code",
   "execution_count": 17,
   "metadata": {},
   "outputs": [
    {
     "name": "stdout",
     "output_type": "stream",
     "text": [
      "hello suraj\n"
     ]
    }
   ],
   "source": [
    "hello('suraj')"
   ]
  },
  {
   "cell_type": "markdown",
   "metadata": {},
   "source": [
    "say throws error after deletion. but hello still works..."
   ]
  },
  {
   "cell_type": "markdown",
   "metadata": {},
   "source": [
    "__functions within functions:__"
   ]
  },
  {
   "cell_type": "markdown",
   "metadata": {},
   "source": [
    "consider below function"
   ]
  },
  {
   "cell_type": "code",
   "execution_count": 18,
   "metadata": {},
   "outputs": [],
   "source": [
    "def hello(name='prashant'):\n",
    "    print 'executing hello() function'\n",
    "    \n",
    "    def default():\n",
    "        print'\\t you did not pass a name to hello() function'\n",
    "    \n",
    "    def given():\n",
    "        print'\\t a name was given to hello() function'\n",
    "        \n",
    "    default()\n",
    "    given()\n",
    "    \n",
    "    print'now inside hello() function'"
   ]
  },
  {
   "cell_type": "code",
   "execution_count": 19,
   "metadata": {},
   "outputs": [
    {
     "name": "stdout",
     "output_type": "stream",
     "text": [
      "executing hello() function\n",
      "\t you did not pass a name to hello() function\n",
      "\t a name was given to hello() function\n",
      "now inside hello() function\n"
     ]
    }
   ],
   "source": [
    "hello()"
   ]
  },
  {
   "cell_type": "markdown",
   "metadata": {},
   "source": [
    "now lets call default() from global section."
   ]
  },
  {
   "cell_type": "code",
   "execution_count": 20,
   "metadata": {},
   "outputs": [
    {
     "ename": "NameError",
     "evalue": "name 'default' is not defined",
     "output_type": "error",
     "traceback": [
      "\u001b[0;31m\u001b[0m",
      "\u001b[0;31mNameError\u001b[0mTraceback (most recent call last)",
      "\u001b[0;32m<ipython-input-20-7b40379d4ea0>\u001b[0m in \u001b[0;36m<module>\u001b[0;34m()\u001b[0m\n\u001b[0;32m----> 1\u001b[0;31m \u001b[0mdefault\u001b[0m\u001b[0;34m(\u001b[0m\u001b[0;34m)\u001b[0m\u001b[0;34m\u001b[0m\u001b[0m\n\u001b[0m",
      "\u001b[0;31mNameError\u001b[0m: name 'default' is not defined"
     ]
    }
   ],
   "source": [
    "default()"
   ]
  },
  {
   "cell_type": "markdown",
   "metadata": {},
   "source": [
    "it throws error because default is defined inside hello not globally"
   ]
  },
  {
   "cell_type": "code",
   "execution_count": 21,
   "metadata": {},
   "outputs": [],
   "source": [
    "def hello(name='prashant'):\n",
    "    \n",
    "    def default():\n",
    "        print'\\t you did not pass a name to hello() function'\n",
    "    \n",
    "    def given():\n",
    "        print'\\t a name was given to hello() function'\n",
    "        \n",
    "    if name=='prashant':\n",
    "        return default #only the function note no (). we dont want to execute it\n",
    "    else:\n",
    "        return given\n",
    "    "
   ]
  },
  {
   "cell_type": "code",
   "execution_count": 22,
   "metadata": {},
   "outputs": [],
   "source": [
    "return_value=hello()"
   ]
  },
  {
   "cell_type": "code",
   "execution_count": 25,
   "metadata": {},
   "outputs": [
    {
     "name": "stdout",
     "output_type": "stream",
     "text": [
      "\t you did not pass a name to hello() function\n"
     ]
    }
   ],
   "source": [
    "hello()\n",
    "return_value=hello"
   ]
  },
  {
   "cell_type": "code",
   "execution_count": 28,
   "metadata": {},
   "outputs": [
    {
     "name": "stdout",
     "output_type": "stream",
     "text": [
      "\t a name was given to hello() function\n"
     ]
    }
   ],
   "source": [
    "return_value=hello('ankit')\n",
    "return_value()"
   ]
  },
  {
   "cell_type": "markdown",
   "metadata": {},
   "source": [
    "this is how its done"
   ]
  },
  {
   "cell_type": "code",
   "execution_count": 29,
   "metadata": {},
   "outputs": [
    {
     "name": "stdout",
     "output_type": "stream",
     "text": [
      "<function given at 0x7fb210487d70>\n"
     ]
    }
   ],
   "source": [
    "print return_value"
   ]
  },
  {
   "cell_type": "code",
   "execution_count": 30,
   "metadata": {},
   "outputs": [
    {
     "name": "stdout",
     "output_type": "stream",
     "text": [
      "\t a name was given to hello() function\n",
      "None\n"
     ]
    }
   ],
   "source": [
    "print return_value()"
   ]
  },
  {
   "cell_type": "markdown",
   "metadata": {},
   "source": [
    "__functions as arguments:__"
   ]
  },
  {
   "cell_type": "code",
   "execution_count": 31,
   "metadata": {},
   "outputs": [],
   "source": [
    "def myfunc():\n",
    "    print'this is myfunc()'"
   ]
  },
  {
   "cell_type": "code",
   "execution_count": 32,
   "metadata": {},
   "outputs": [],
   "source": [
    "def mysecfunc(func):\n",
    "    print'this is mysecfunc which has myfunc and will be executed below'\n",
    "    print myfunc()"
   ]
  },
  {
   "cell_type": "code",
   "execution_count": 34,
   "metadata": {},
   "outputs": [
    {
     "name": "stdout",
     "output_type": "stream",
     "text": [
      "this is mysecfunc which has myfunc and will be executed below\n",
      "this is myfunc()\n",
      "None\n"
     ]
    }
   ],
   "source": [
    "mysecfunc(myfunc)"
   ]
  },
  {
   "cell_type": "code",
   "execution_count": null,
   "metadata": {},
   "outputs": [],
   "source": []
  }
 ],
 "metadata": {
  "kernelspec": {
   "display_name": "Python 2",
   "language": "python",
   "name": "python2"
  },
  "language_info": {
   "codemirror_mode": {
    "name": "ipython",
    "version": 2
   },
   "file_extension": ".py",
   "mimetype": "text/x-python",
   "name": "python",
   "nbconvert_exporter": "python",
   "pygments_lexer": "ipython2",
   "version": "2.7.14"
  }
 },
 "nbformat": 4,
 "nbformat_minor": 2
}
