{
 "cells": [
  {
   "cell_type": "markdown",
   "metadata": {},
   "source": [
    "let us say we wnt to erite a function that returns the average of the numbers provided by user. now how many numbers\n",
    "user can provide is upto him. and we cannot predict that number"
   ]
  },
  {
   "cell_type": "code",
   "execution_count": 3,
   "metadata": {},
   "outputs": [],
   "source": [
    "def average(a,b,c):\n",
    "    res=sum((a,b,c))/3\n",
    "    return res"
   ]
  },
  {
   "cell_type": "code",
   "execution_count": 4,
   "metadata": {},
   "outputs": [
    {
     "data": {
      "text/plain": [
       "10"
      ]
     },
     "execution_count": 4,
     "metadata": {},
     "output_type": "execute_result"
    }
   ],
   "source": [
    "average(5,10,15)"
   ]
  },
  {
   "cell_type": "markdown",
   "metadata": {},
   "source": [
    "now if user let say provided 4 args the entire function needs to be changed sum would have be divided by the args given"
   ]
  },
  {
   "cell_type": "markdown",
   "metadata": {},
   "source": [
    "here args comes handy. the syntax is *args. "
   ]
  },
  {
   "cell_type": "code",
   "execution_count": 12,
   "metadata": {},
   "outputs": [],
   "source": [
    "from __future__ import division"
   ]
  },
  {
   "cell_type": "code",
   "execution_count": 13,
   "metadata": {},
   "outputs": [],
   "source": [
    "def average_modify(*args):\n",
    "    count=0\n",
    "    print args\n",
    "    for items in args:\n",
    "        count+=1\n",
    "    res=sum((args))/count\n",
    "    return res"
   ]
  },
  {
   "cell_type": "code",
   "execution_count": 14,
   "metadata": {},
   "outputs": [
    {
     "name": "stdout",
     "output_type": "stream",
     "text": [
      "(5, 10, 15)\n"
     ]
    }
   ],
   "source": [
    "res=average_modify(5,10,15)"
   ]
  },
  {
   "cell_type": "code",
   "execution_count": 15,
   "metadata": {},
   "outputs": [
    {
     "data": {
      "text/plain": [
       "10.0"
      ]
     },
     "execution_count": 15,
     "metadata": {},
     "output_type": "execute_result"
    }
   ],
   "source": [
    "res"
   ]
  },
  {
   "cell_type": "markdown",
   "metadata": {},
   "source": [
    "here args are shown in tuples. python creates a tuple of all args provided to the functions the for loop checks for item in that tuple and sum adds the args finally average is calculated by dividing sum by number of args and returned "
   ]
  },
  {
   "cell_type": "code",
   "execution_count": 16,
   "metadata": {},
   "outputs": [
    {
     "name": "stdout",
     "output_type": "stream",
     "text": [
      "(1, 2, 3, 4, 5, 6, 7, 8, 9, 10)\n"
     ]
    }
   ],
   "source": [
    "res=average_modify(1,2,3,4,5,6,7,8,9,10)"
   ]
  },
  {
   "cell_type": "code",
   "execution_count": 17,
   "metadata": {},
   "outputs": [
    {
     "data": {
      "text/plain": [
       "5.5"
      ]
     },
     "execution_count": 17,
     "metadata": {},
     "output_type": "execute_result"
    }
   ],
   "source": [
    "res"
   ]
  },
  {
   "cell_type": "markdown",
   "metadata": {},
   "source": [
    "here average is 5.5 so now it does not matter how many arguments come in we have a tuple of them to play around with them.\n",
    "kwargs are same only diff is they are written in **kwargs format and are stored in a dictionary as below"
   ]
  },
  {
   "cell_type": "code",
   "execution_count": 21,
   "metadata": {},
   "outputs": [],
   "source": [
    "def fav(**kwargs):\n",
    "    print kwargs\n",
    "    if 'fruits' in kwargs:\n",
    "        print'my fav fruit is {}'.format(kwargs['fruits'])\n",
    "    elif 'vegie' in kwargs:\n",
    "        print'my fav vegie is {}'.format(kwargs['vegie'])\n",
    "    else:\n",
    "        print'my fav is not there'"
   ]
  },
  {
   "cell_type": "code",
   "execution_count": 22,
   "metadata": {},
   "outputs": [
    {
     "name": "stdout",
     "output_type": "stream",
     "text": [
      "{'fruits': 'mango'}\n",
      "my fav fruit is mango\n"
     ]
    }
   ],
   "source": [
    "fav(fruits='mango')"
   ]
  },
  {
   "cell_type": "code",
   "execution_count": 23,
   "metadata": {},
   "outputs": [
    {
     "name": "stdout",
     "output_type": "stream",
     "text": [
      "{'vegie': 'potato'}\n",
      "my fav vegie is potato\n"
     ]
    }
   ],
   "source": [
    "fav(vegie='potato')"
   ]
  },
  {
   "cell_type": "code",
   "execution_count": 24,
   "metadata": {},
   "outputs": [
    {
     "name": "stdout",
     "output_type": "stream",
     "text": [
      "{'gram': 'chana'}\n",
      "my fav is not there\n"
     ]
    }
   ],
   "source": [
    "fav(gram='chana')"
   ]
  },
  {
   "cell_type": "markdown",
   "metadata": {},
   "source": [
    "note here kwargs are shown in dictionary and have to give in parameter as key='value' format"
   ]
  },
  {
   "cell_type": "markdown",
   "metadata": {},
   "source": [
    "it is also possible to combine *args and **kwargs in same function"
   ]
  },
  {
   "cell_type": "code",
   "execution_count": 27,
   "metadata": {},
   "outputs": [],
   "source": [
    "def store(*args,**kwargs):\n",
    "    print\"i'd like to buy {} peices of {} \".format(args[0],kwargs['candies'])"
   ]
  },
  {
   "cell_type": "code",
   "execution_count": 28,
   "metadata": {},
   "outputs": [
    {
     "name": "stdout",
     "output_type": "stream",
     "text": [
      "i'd like to buy 10 peices of eclairs \n"
     ]
    }
   ],
   "source": [
    "store(10,20,30,candies='eclairs',)"
   ]
  },
  {
   "cell_type": "markdown",
   "metadata": {},
   "source": [
    "tadaaaaa"
   ]
  },
  {
   "cell_type": "code",
   "execution_count": null,
   "metadata": {},
   "outputs": [],
   "source": []
  }
 ],
 "metadata": {
  "kernelspec": {
   "display_name": "Python 2",
   "language": "python",
   "name": "python2"
  },
  "language_info": {
   "codemirror_mode": {
    "name": "ipython",
    "version": 2
   },
   "file_extension": ".py",
   "mimetype": "text/x-python",
   "name": "python",
   "nbconvert_exporter": "python",
   "pygments_lexer": "ipython2",
   "version": "2.7.14"
  }
 },
 "nbformat": 4,
 "nbformat_minor": 2
}
