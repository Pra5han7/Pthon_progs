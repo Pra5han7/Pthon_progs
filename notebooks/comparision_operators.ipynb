{
 "cells": [
  {
   "cell_type": "markdown",
   "metadata": {},
   "source": [
    "comparision operators are those which compares two variables. they return bool vaiable either True or False\n",
    "depending on the reult of comparasion"
   ]
  },
  {
   "cell_type": "code",
   "execution_count": 1,
   "metadata": {},
   "outputs": [
    {
     "data": {
      "text/plain": [
       "True"
      ]
     },
     "execution_count": 1,
     "metadata": {},
     "output_type": "execute_result"
    }
   ],
   "source": [
    "2==2"
   ]
  },
  {
   "cell_type": "code",
   "execution_count": 2,
   "metadata": {},
   "outputs": [
    {
     "data": {
      "text/plain": [
       "False"
      ]
     },
     "execution_count": 2,
     "metadata": {},
     "output_type": "execute_result"
    }
   ],
   "source": [
    "2==1"
   ]
  },
  {
   "cell_type": "markdown",
   "metadata": {},
   "source": [
    "comparision operators work on strings as well"
   ]
  },
  {
   "cell_type": "code",
   "execution_count": 3,
   "metadata": {},
   "outputs": [
    {
     "data": {
      "text/plain": [
       "True"
      ]
     },
     "execution_count": 3,
     "metadata": {},
     "output_type": "execute_result"
    }
   ],
   "source": [
    "'hello'=='hello'"
   ]
  },
  {
   "cell_type": "code",
   "execution_count": 4,
   "metadata": {},
   "outputs": [
    {
     "data": {
      "text/plain": [
       "False"
      ]
     },
     "execution_count": 4,
     "metadata": {},
     "output_type": "execute_result"
    }
   ],
   "source": [
    "'hello'=='Hello'"
   ]
  },
  {
   "cell_type": "markdown",
   "metadata": {},
   "source": [
    "here case always matter in case of strings so hello and Hello are not same"
   ]
  },
  {
   "cell_type": "code",
   "execution_count": 6,
   "metadata": {},
   "outputs": [
    {
     "name": "stdout",
     "output_type": "stream",
     "text": [
      "strings not equal\n"
     ]
    }
   ],
   "source": [
    "a='prashant'\n",
    "b='prAshant'\n",
    "if(a==b):\n",
    "    print'strings are equal'\n",
    "else:\n",
    "    print'strings not equal'"
   ]
  },
  {
   "cell_type": "code",
   "execution_count": 9,
   "metadata": {},
   "outputs": [
    {
     "name": "stdout",
     "output_type": "stream",
     "text": [
      "strings not equal\n",
      "False\n"
     ]
    }
   ],
   "source": [
    "a='prashant'\n",
    "b='prAshant'\n",
    "c=(a==b)\n",
    "if(c):\n",
    "    print'strings are equal'\n",
    "else:\n",
    "    print'strings not equal'\n",
    "print c"
   ]
  },
  {
   "cell_type": "markdown",
   "metadata": {},
   "source": [
    "two methods are shown above for comparasion in latter ex bool type is return and is stored in c and then c is \n",
    "checked for True or False"
   ]
  },
  {
   "cell_type": "markdown",
   "metadata": {},
   "source": [
    "note the : after if and the indentation just below it. this is crucial for python. without this code may crash into errors"
   ]
  },
  {
   "cell_type": "markdown",
   "metadata": {},
   "source": [
    "now the comparision can be chained by logical comapartors and or not"
   ]
  },
  {
   "cell_type": "markdown",
   "metadata": {},
   "source": [
    "consider below exercise"
   ]
  },
  {
   "cell_type": "code",
   "execution_count": 13,
   "metadata": {},
   "outputs": [
    {
     "name": "stdout",
     "output_type": "stream",
     "text": [
      "enter a number 12\n",
      "another number 100\n",
      "one last number 18\n",
      "\n",
      "i'll tell you which one is largest\n",
      "\n",
      "calculating.......\n",
      "\n",
      "100 is largest\n"
     ]
    }
   ],
   "source": [
    "a=input('enter a number ')\n",
    "b=input('another number ')\n",
    "c=input('one last number ')\n",
    "\n",
    "print\"\\ni'll tell you which one is largest\\n\"\n",
    "print'calculating.......\\n'\n",
    "\n",
    "if(a>b and a>c):\n",
    "    print'{} is largest'.format(a)\n",
    "elif(b>c):\n",
    "    print'{} is largest'.format(b)\n",
    "else:\n",
    "    print'{} is largest'.format(c)\n",
    "    "
   ]
  },
  {
   "cell_type": "markdown",
   "metadata": {},
   "source": [
    "same way we can use or and not operators and other !=, <, >, >=, <=, and =="
   ]
  },
  {
   "cell_type": "code",
   "execution_count": null,
   "metadata": {},
   "outputs": [],
   "source": []
  }
 ],
 "metadata": {
  "kernelspec": {
   "display_name": "Python 2",
   "language": "python",
   "name": "python2"
  },
  "language_info": {
   "codemirror_mode": {
    "name": "ipython",
    "version": 2
   },
   "file_extension": ".py",
   "mimetype": "text/x-python",
   "name": "python",
   "nbconvert_exporter": "python",
   "pygments_lexer": "ipython2",
   "version": "2.7.14"
  }
 },
 "nbformat": 4,
 "nbformat_minor": 2
}
